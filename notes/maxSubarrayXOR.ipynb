{
 "cells": [
  {
   "cell_type": "code",
   "execution_count": 29,
   "metadata": {},
   "outputs": [],
   "source": [
    "from itertools import accumulate\n",
    "from operator import xor\n",
    "\n",
    "def allSubarrays(L,L2=None):\n",
    "    if L2==None:\n",
    "        L2 = L[:-1]\n",
    "    if L==[]:\n",
    "        if L2==[]:\n",
    "            return []\n",
    "        return allSubarrays(L2,L2[:-1])\n",
    "    return [L]+allSubarrays(L[1:],L2)\n",
    "\n",
    "def maxSubarrayXOR(arr):\n",
    "    maxxor = 0\n",
    "    maxsubarr = None\n",
    "    \n",
    "    for subarr in allSubarrays(arr):\n",
    "        acc = list(accumulate(subarr, xor))[-1]\n",
    "        if acc > maxxor:\n",
    "            maxxor = acc\n",
    "            maxsubarr = subarr\n",
    "            \n",
    "    return maxsubarr"
   ]
  },
  {
   "cell_type": "code",
   "execution_count": 32,
   "metadata": {},
   "outputs": [
    {
     "name": "stdout",
     "output_type": "stream",
     "text": [
      "[4, 12, 7]\n",
      "[11, 2, 5, 3, 16]\n",
      "[18, 10, 7]\n"
     ]
    }
   ],
   "source": [
    "print(maxSubarrayXOR([3, 9, 4, 12, 7]))\n",
    "print(maxSubarrayXOR([11, 2, 5, 3, 16, 8]))\n",
    "print(maxSubarrayXOR([5, 18, 10, 7, 14, 3]))"
   ]
  },
  {
   "cell_type": "code",
   "execution_count": 22,
   "metadata": {},
   "outputs": [
    {
     "data": {
      "text/plain": [
       "[15]"
      ]
     },
     "execution_count": 22,
     "metadata": {},
     "output_type": "execute_result"
    }
   ],
   "source": [
    "list(accumulate([15], xor))"
   ]
  },
  {
   "cell_type": "code",
   "execution_count": 41,
   "metadata": {},
   "outputs": [
    {
     "data": {
      "text/plain": [
       "21"
      ]
     },
     "execution_count": 41,
     "metadata": {},
     "output_type": "execute_result"
    }
   ],
   "source": [
    "L = [5, 15, 10, 7, 14, 3]\n",
    "\n",
    "def allSubarrays(L):\n",
    "    return _allSubarrays(L, L[:-1])\n",
    "\n",
    "def _allSubarrays(L,L2):\n",
    "    if L==[]:\n",
    "        if L2==[]:\n",
    "            return []\n",
    "        return _allSubarrays(L2,L2[:-1])\n",
    "    return [L]+_allSubarrays(L[1:],L2)\n",
    "\n",
    "allSubarrays(L)"
   ]
  },
  {
   "cell_type": "code",
   "execution_count": 43,
   "metadata": {},
   "outputs": [
    {
     "data": {
      "text/plain": [
       "[[5, 15, 10, 7, 14, 3],\n",
       " [15, 10, 7, 14, 3],\n",
       " [10, 7, 14, 3],\n",
       " [7, 14, 3],\n",
       " [14, 3],\n",
       " [3],\n",
       " [5, 15, 10, 7, 14],\n",
       " [15, 10, 7, 14],\n",
       " [10, 7, 14],\n",
       " [7, 14],\n",
       " [14],\n",
       " [5, 15, 10, 7],\n",
       " [15, 10, 7],\n",
       " [10, 7],\n",
       " [7],\n",
       " [5, 15, 10],\n",
       " [15, 10],\n",
       " [10],\n",
       " [5, 15],\n",
       " [15],\n",
       " [5]]"
      ]
     },
     "execution_count": 43,
     "metadata": {},
     "output_type": "execute_result"
    }
   ],
   "source": [
    "L = [5, 15, 10, 7, 14, 3]\n",
    "\n",
    "def allSubarrays(L,L2=None):\n",
    "    if L2==None:\n",
    "        L2 = L[:-1]\n",
    "    if L==[]:\n",
    "        if L2==[]:\n",
    "            return []\n",
    "        return allSubarrays(L2,L2[:-1])\n",
    "    return [L]+allSubarrays(L[1:],L2)\n",
    "\n",
    "allSubarrays(L)"
   ]
  },
  {
   "cell_type": "code",
   "execution_count": null,
   "metadata": {},
   "outputs": [],
   "source": []
  }
 ],
 "metadata": {
  "kernelspec": {
   "display_name": "Python 3",
   "language": "python",
   "name": "python3"
  },
  "language_info": {
   "codemirror_mode": {
    "name": "ipython",
    "version": 3
   },
   "file_extension": ".py",
   "mimetype": "text/x-python",
   "name": "python",
   "nbconvert_exporter": "python",
   "pygments_lexer": "ipython3",
   "version": "3.6.5"
  }
 },
 "nbformat": 4,
 "nbformat_minor": 4
}
