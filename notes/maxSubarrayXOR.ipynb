{
 "cells": [
  {
   "cell_type": "code",
   "execution_count": 29,
   "metadata": {},
   "outputs": [],
   "source": [
    "from itertools import accumulate\n",
    "from operator import xor\n",
    "\n",
    "def allSubarrays(L,L2=None):\n",
    "    if L2==None:\n",
    "        L2 = L[:-1]\n",
    "    if L==[]:\n",
    "        if L2==[]:\n",
    "            return []\n",
    "        return allSubarrays(L2,L2[:-1])\n",
    "    return [L]+allSubarrays(L[1:],L2)\n",
    "\n",
    "def maxSubarrayXOR(arr):\n",
    "    maxxor = 0\n",
    "    maxsubarr = None\n",
    "    \n",
    "    for subarr in allSubarrays(arr):\n",
    "        acc = list(accumulate(subarr, xor))[-1]\n",
    "        if acc > maxxor:\n",
    "            maxxor = acc\n",
    "            maxsubarr = subarr\n",
    "            \n",
    "    return maxsubarr"
   ]
  },
  {
   "cell_type": "code",
   "execution_count": 32,
   "metadata": {},
   "outputs": [
    {
     "name": "stdout",
     "output_type": "stream",
     "text": [
      "[4, 12, 7]\n",
      "[11, 2, 5, 3, 16]\n",
      "[18, 10, 7]\n"
     ]
    }
   ],
   "source": [
    "print(maxSubarrayXOR([3, 9, 4, 12, 7]))\n",
    "print(maxSubarrayXOR([11, 2, 5, 3, 16, 8]))\n",
    "print(maxSubarrayXOR([5, 18, 10, 7, 14, 3]))"
   ]
  },
  {
   "cell_type": "code",
   "execution_count": 22,
   "metadata": {},
   "outputs": [
    {
     "data": {
      "text/plain": [
       "[15]"
      ]
     },
     "execution_count": 22,
     "metadata": {},
     "output_type": "execute_result"
    }
   ],
   "source": [
    "list(accumulate([15], xor))"
   ]
  },
  {
   "cell_type": "code",
   "execution_count": 41,
   "metadata": {},
   "outputs": [
    {
     "data": {
      "text/plain": [
       "21"
      ]
     },
     "execution_count": 41,
     "metadata": {},
     "output_type": "execute_result"
    }
   ],
   "source": [
    "L = [5, 15, 10, 7, 14, 3]\n",
    "\n",
    "def allSubarrays(L):\n",
    "    return _allSubarrays(L, L[:-1])\n",
    "\n",
    "def _allSubarrays(L,L2):\n",
    "    if L==[]:\n",
    "        if L2==[]:\n",
    "            return []\n",
    "        return _allSubarrays(L2,L2[:-1])\n",
    "    return [L]+_allSubarrays(L[1:],L2)\n",
    "\n",
    "allSubarrays(L)"
   ]
  },
  {
   "cell_type": "code",
   "execution_count": 1,
   "metadata": {},
   "outputs": [
    {
     "data": {
      "text/plain": [
       "[[5, 18, 10, 7, 14, 3],\n",
       " [18, 10, 7, 14, 3],\n",
       " [10, 7, 14, 3],\n",
       " [7, 14, 3],\n",
       " [14, 3],\n",
       " [3],\n",
       " [5, 18, 10, 7, 14],\n",
       " [18, 10, 7, 14],\n",
       " [10, 7, 14],\n",
       " [7, 14],\n",
       " [14],\n",
       " [5, 18, 10, 7],\n",
       " [18, 10, 7],\n",
       " [10, 7],\n",
       " [7],\n",
       " [5, 18, 10],\n",
       " [18, 10],\n",
       " [10],\n",
       " [5, 18],\n",
       " [18],\n",
       " [5]]"
      ]
     },
     "execution_count": 1,
     "metadata": {},
     "output_type": "execute_result"
    }
   ],
   "source": [
    "L = [5, 18, 10, 7, 14, 3]\n",
    "\n",
    "def allSubarrays(L,L2=None):\n",
    "    if L2==None:\n",
    "        L2 = L[:-1]\n",
    "    if L==[]:\n",
    "        if L2==[]:\n",
    "            return []\n",
    "        return allSubarrays(L2,L2[:-1])\n",
    "    return [L]+allSubarrays(L[1:],L2)\n",
    "\n",
    "allSubarrays(L)"
   ]
  },
  {
   "cell_type": "code",
   "execution_count": 35,
   "metadata": {},
   "outputs": [
    {
     "name": "stdout",
     "output_type": "stream",
     "text": [
      "i: 0, tri(invtri(i)): 0\n",
      "i: 1, tri(invtri(i)): 1\n",
      "i: 2, tri(invtri(i)): 2\n",
      "i: 3, tri(invtri(i)): 3\n",
      "i: 4, tri(invtri(i)): 4\n",
      "i: 5, tri(invtri(i)): 5\n"
     ]
    }
   ],
   "source": [
    "import math\n",
    "\n",
    "def tri(n):\n",
    "    return int(n*(n+1)/2)\n",
    "\n",
    "def invtri(ntri):\n",
    "    return -1/2 + (1/4 + 2*ntri)**.5\n",
    "\n",
    "for i in range(6):\n",
    "    print(f\"i: {i}, tri(invtri(i)): {tri(invtri(i))}\")"
   ]
  },
  {
   "cell_type": "code",
   "execution_count": 30,
   "metadata": {},
   "outputs": [
    {
     "name": "stdout",
     "output_type": "stream",
     "text": [
      "i: 0, i - tri(invtri(i)): 0, invtri(i) + 1: 1\n",
      "i: 1, i - tri(invtri(i)): 0, invtri(i) + 1: 2\n",
      "i: 2, i - tri(invtri(i)): 1, invtri(i) + 1: 2\n",
      "i: 3, i - tri(invtri(i)): 0, invtri(i) + 1: 3\n",
      "i: 4, i - tri(invtri(i)): 1, invtri(i) + 1: 3\n",
      "i: 5, i - tri(invtri(i)): 2, invtri(i) + 1: 3\n",
      "[4]\n",
      "[4, 1]\n",
      "[1]\n",
      "[4, 1, 3]\n",
      "[1, 3]\n",
      "[3]\n"
     ]
    }
   ],
   "source": [
    "for i in range(6):\n",
    "    print(f\"i: {i}, i - tri(invtri(i)): {i - tri(invtri(i))}, invtri(i) + 1: {invtri(i) + 1}\")\n",
    "\n",
    "arr = [4, 1, 3]\n",
    "for i in range(6):\n",
    "    end = invtri(i) + 1\n",
    "    start = i - tri(end - 1)\n",
    "    print(arr[start:end])"
   ]
  },
  {
   "cell_type": "code",
   "execution_count": 33,
   "metadata": {},
   "outputs": [
    {
     "data": {
      "text/plain": [
       "0.0"
      ]
     },
     "execution_count": 33,
     "metadata": {},
     "output_type": "execute_result"
    }
   ],
   "source": [
    "invtri(0)"
   ]
  },
  {
   "cell_type": "code",
   "execution_count": 16,
   "metadata": {},
   "outputs": [
    {
     "data": {
      "text/plain": [
       "0.0"
      ]
     },
     "execution_count": 16,
     "metadata": {},
     "output_type": "execute_result"
    }
   ],
   "source": [
    "4 - tri(invtri(4) - 1) - 1"
   ]
  },
  {
   "cell_type": "code",
   "execution_count": 11,
   "metadata": {},
   "outputs": [
    {
     "data": {
      "text/plain": [
       "4.0"
      ]
     },
     "execution_count": 11,
     "metadata": {},
     "output_type": "execute_result"
    }
   ],
   "source": [
    "\n"
   ]
  },
  {
   "cell_type": "code",
   "execution_count": null,
   "metadata": {},
   "outputs": [],
   "source": []
  }
 ],
 "metadata": {
  "kernelspec": {
   "display_name": "Python 3",
   "language": "python",
   "name": "python3"
  },
  "language_info": {
   "codemirror_mode": {
    "name": "ipython",
    "version": 3
   },
   "file_extension": ".py",
   "mimetype": "text/x-python",
   "name": "python",
   "nbconvert_exporter": "python",
   "pygments_lexer": "ipython3",
   "version": "3.6.5"
  }
 },
 "nbformat": 4,
 "nbformat_minor": 4
}
